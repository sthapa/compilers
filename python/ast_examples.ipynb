{
 "cells": [
  {
   "cell_type": "markdown",
   "metadata": {
    "collapsed": true,
    "pycharm": {
     "name": "#%% md\n"
    }
   },
   "source": [
    "First, let's import python modules that we'll need, everything is in\n",
    "the standard library except for the astpretty module.  We're using\n",
    "that to output an AST in a more readible format.  Feel free to replace\n",
    "the ast.pprint calls with ast.dump calls if you want to avoid \n",
    "installing the astpretty module \n",
    "\n",
    "\n",
    "\n",
    "\n"
   ]
  },
  {
   "cell_type": "code",
   "execution_count": 1,
   "metadata": {
    "pycharm": {
     "is_executing": false,
     "name": "#%%\n"
    }
   },
   "outputs": [],
   "source": [
    "import argparse\n",
    "import ast\n",
    "import collections\n",
    "import copy\n",
    "import sys\n",
    "import timeit\n",
    "\n",
    "import astpretty"
   ]
  },
  {
   "cell_type": "markdown",
   "metadata": {
    "pycharm": {
     "name": "#%%\n"
    }
   },
   "source": [
    "Next we'll define a helper function to time our code fragments. The `timeit.timeit` call runs our code fragment 10,000 times and outputs the time it took to run.  Since timeit runs the code in a clean namespace we need to use the globals keyword arg to pass in the AST that we want to time and then use the `compile` and `exec` calls to first compile an `ast.AST` object to executable code and then to execute it."
   ]
  },
  {
   "cell_type": "code",
   "execution_count": 2,
   "metadata": {},
   "outputs": [],
   "source": [
    "def time_tree(tree: ast.AST) -> float:\n",
    "  \"\"\"\n",
    "  Time ast execution\n",
    "\n",
    "  :param tree: AST tree\n",
    "  :return: float recording number of seconds to run snippet\n",
    "  \"\"\"\n",
    "  return timeit.timeit(stmt=\"exec(compile(tree, 'test', mode='exec'))\", number=10000, globals={'tree': tree})"
   ]
  },
  {
   "cell_type": "markdown",
   "metadata": {},
   "source": [
    "We'll use `example.py` as the source code that we'll examine and modify.  The `ast.parse` method will take a string with python code and return a corresponding `ast.AST` object.  We'll use this throughout the code to load and generate an AST from `example.py`\n",
    "\n",
    "Now, let's look at using the `ast.NodeVisitor` to examine our source code.  First, we'll do the functional equivalent of a hello world program by printing out any functions that we define in our source code.  We use `ast.NodeVisitor` to do this by inheriting from the class and overriding the various visit_* methods.  I've done this in two different ways:\n",
    "\n",
    "* override `generic_visit` and then if the node we're visiting is an `ast.FunctionDef` object, print out it's name\n",
    "* override `visit_FunctionDef` and then print out the node name since this method only gets called on FunctionDef nodes"
   ]
  },
  {
   "cell_type": "code",
   "execution_count": 3,
   "metadata": {},
   "outputs": [],
   "source": [
    "class HelloVisitor(ast.NodeVisitor):\n",
    "\n",
    "  def generic_visit(self, node):\n",
    "    if node.__class__ == ast.FunctionDef:\n",
    "      sys.stdout.write(f\"Defining function: {node.name} \\n\")\n",
    "    super().generic_visit(node)\n",
    "\n",
    "\n",
    "class FunctionVisitor(ast.NodeVisitor):\n",
    "\n",
    "  def visit_FunctionDef(self, node):\n",
    "    sys.stdout.write(f\"Defining function: {node.name} \\n\")"
   ]
  },
  {
   "cell_type": "markdown",
   "metadata": {},
   "source": [
    "Finally we'll instantiate our objects and call the `visit` methods on the objects to traverse the AST tree:"
   ]
  },
  {
   "cell_type": "code",
   "execution_count": 5,
   "metadata": {},
   "outputs": [
    {
     "name": "stdout",
     "output_type": "stream",
     "text": [
      "Visiting nodes using generic_visit:\n",
      "Defining function: test_function \n",
      "Defining function: test_function2 \n",
      "Visiting nodes using specific visit function:\n",
      "Defining function: test_function \n",
      "Defining function: test_function2 \n"
     ]
    }
   ],
   "source": [
    "  with open(\"example.py\", \"r\") as source:\n",
    "    tree = ast.parse(source.read())\n",
    "  sys.stdout.write(\"Visiting nodes using generic_visit:\\n\")\n",
    "  hello_visitor = HelloVisitor()\n",
    "  hello_visitor.visit(tree)\n",
    "  sys.stdout.write(\"Visiting nodes using specific visit function:\\n\")\n",
    "  function_visitor = FunctionVisitor()\n",
    "  function_visitor.visit(tree)\n"
   ]
  },
  {
   "cell_type": "markdown",
   "metadata": {},
   "source": [
    "Now we'll do something a bit more complex with the `NodeVisitor` class. We'll do a bit of static analysis to flag variables that are defined but haven't been used.  We'll do this by looking at all the `Assign` nodes to record all the variables created.  Next we'll look at the `Name` nodes to record when the variables are used.  By comparing the two lists, we can see when a variable has been created but hasn't been used.  \n",
    "\n",
    "**Note:**  we need to be careful here to respect python's scoping rules.  We need to record if a variable is defined within a function so that we can catch cases where a variable is created in one scope and used in another scope. To make life (and the code) simpler, we'll ignore class definitions entirely but handling that would be analagous to handling variables within a function.  Also, this misses variables used in code that is evaluated at runtime, but if you're doing that, you should be prepared for this."
   ]
  },
  {
   "cell_type": "code",
   "execution_count": null,
   "metadata": {},
   "outputs": [],
   "source": []
  },
  {
   "cell_type": "markdown",
   "metadata": {},
   "source": [
    "### Static Analysis\n",
    "\n",
    "Now we'll look at using static analysis to modify ASTs and possibly optimize our code.  We'll do two different optimizations:\n",
    "\n",
    "* dead code elimination\n",
    "* function inlining"
   ]
  },
  {
   "cell_type": "markdown",
   "metadata": {},
   "source": [
    "#### Dead code elimination\n",
    "\n",
    "Dead code elimination involves analyzing our code and removing code that we can guarantee will never run.  For example, in the following code: \n",
    "\n",
    "```\n",
    "  if True:\n",
    "    a = 5\n",
    "  else:\n",
    "    a = 10\n",
    "```\n",
    "\n",
    "we know that the ```a=5``` branch will always be taken.  So we can effectively replace a comparison and variable assignment with a single assignment.  This is potentially a next bonus by reducing our code size, and avoiding a comparison and jump.\n",
    "\n",
    "This becomes even more powerful if we use constant folding and constant propagation to evaluate code at runtime. E.g. replacing code like\n",
    "\n",
    "```\n",
    "x = 5\n",
    "y = x + 10\n",
    "if y > 5:\n",
    "  x = 20\n",
    "```\n",
    "\n",
    "with \n",
    "\n",
    "```\n",
    "x = 5\n",
    "y = 15\n",
    "if 15 > 5:\n",
    "  x = 20\n",
    "```\n",
    "then\n",
    "```\n",
    "x = 5\n",
    "y = 15\n",
    "x = 20\n",
    "```\n",
    "\n",
    "and finally \n",
    "\n",
    "```\n",
    "y = 15\n",
    "x = 20\n",
    "```"
   ]
  },
  {
   "cell_type": "markdown",
   "metadata": {},
   "source": [
    "Notice that in optimizing the code, running some optimizations like dead code elimination at different stages might be useful."
   ]
  },
  {
   "cell_type": "markdown",
   "metadata": {},
   "source": [
    "#### Function inlining\n",
    "\n",
    "Function inlining is a bit more ambiguous optimization.  Function inlining involves taking the body of a function, and replacing function calls with the body of the function.  E.g. `a = func(a)` gets replaced with the code for `func` and instead of having `func` return a value, it is assigned to `a`.  Depending on the size of the function, this may be a net benefit or may even slow down the code.  This also is a bit more complicated since we need to propagate function arguments into the body and make sure that variables declared within the function are renamed so that they don't overwrite variables where the function was called.  \n",
    "\n",
    "To make the code much simpler, we'll just inline functions that consist of calls to other functions. "
   ]
  },
  {
   "cell_type": "code",
   "execution_count": null,
   "metadata": {},
   "outputs": [],
   "source": []
  }
 ],
 "metadata": {
  "kernelspec": {
   "display_name": "Python 3",
   "language": "python",
   "name": "python3"
  },
  "language_info": {
   "codemirror_mode": {
    "name": "ipython",
    "version": 3
   },
   "file_extension": ".py",
   "mimetype": "text/x-python",
   "name": "python",
   "nbconvert_exporter": "python",
   "pygments_lexer": "ipython3",
   "version": "3.8.1"
  },
  "pycharm": {
   "stem_cell": {
    "cell_type": "raw",
    "metadata": {
     "collapsed": false
    },
    "source": []
   }
  }
 },
 "nbformat": 4,
 "nbformat_minor": 1
}
